{
 "cells": [
  {
   "cell_type": "markdown",
   "metadata": {},
   "source": [
    "# Project: Churn Emails Inbox with Python"
   ]
  },
  {
   "cell_type": "code",
   "execution_count": 1,
   "metadata": {
    "ExecuteTime": {
     "end_time": "2020-09-30T06:11:04.916920Z",
     "start_time": "2020-09-30T06:11:04.901226Z"
    }
   },
   "outputs": [],
   "source": [
    "# have a look at data\n",
    "# !head -n 15 data/mbox-short.txt"
   ]
  },
  {
   "cell_type": "code",
   "execution_count": 15,
   "metadata": {
    "ExecuteTime": {
     "end_time": "2020-09-30T06:11:45.046961Z",
     "start_time": "2020-09-30T06:11:45.027630Z"
    }
   },
   "outputs": [],
   "source": [
    "# assign file path\n",
    "file_path = 'data/mbox.txt'"
   ]
  },
  {
   "cell_type": "code",
   "execution_count": 16,
   "metadata": {
    "ExecuteTime": {
     "end_time": "2020-09-30T06:11:45.960264Z",
     "start_time": "2020-09-30T06:11:45.936617Z"
    }
   },
   "outputs": [],
   "source": [
    "# define a function number_of_lines\n",
    "def number_of_lines():\n",
    "    count = 0\n",
    "    with open(file_path) as f:\n",
    "        for line in f:\n",
    "            count += 1\n",
    "    return count"
   ]
  },
  {
   "cell_type": "code",
   "execution_count": 17,
   "metadata": {
    "ExecuteTime": {
     "end_time": "2020-09-30T06:11:47.508253Z",
     "start_time": "2020-09-30T06:11:47.424376Z"
    }
   },
   "outputs": [
    {
     "name": "stdout",
     "output_type": "stream",
     "text": [
      "132045\n"
     ]
    }
   ],
   "source": [
    "print(number_of_lines())"
   ]
  },
  {
   "cell_type": "markdown",
   "metadata": {},
   "source": [
    "# Explore the contents of email"
   ]
  },
  {
   "cell_type": "code",
   "execution_count": 18,
   "metadata": {
    "ExecuteTime": {
     "end_time": "2020-09-30T06:11:49.327390Z",
     "start_time": "2020-09-30T06:11:49.315409Z"
    }
   },
   "outputs": [],
   "source": [
    "#  function count_number_of_lines which returns the count of the number of lines starting with Subject:\n",
    "def count_number_of_lines():\n",
    "    count = 0\n",
    "    with open(file_path) as f:\n",
    "        for line in f:\n",
    "            line = line.rstrip() # Removes new line char from right\n",
    "            if line.startswith('Subject:'):\n",
    "                count += 1\n",
    "    return count"
   ]
  },
  {
   "cell_type": "code",
   "execution_count": 19,
   "metadata": {
    "ExecuteTime": {
     "end_time": "2020-09-30T06:11:51.631759Z",
     "start_time": "2020-09-30T06:11:51.419710Z"
    }
   },
   "outputs": [
    {
     "data": {
      "text/plain": [
       "1797"
      ]
     },
     "execution_count": 19,
     "metadata": {},
     "output_type": "execute_result"
    }
   ],
   "source": [
    "count_number_of_lines()"
   ]
  },
  {
   "cell_type": "code",
   "execution_count": 20,
   "metadata": {
    "ExecuteTime": {
     "end_time": "2020-09-30T06:11:53.545109Z",
     "start_time": "2020-09-30T06:11:53.521754Z"
    }
   },
   "outputs": [],
   "source": [
    "# function which calculates the average spam confidence and returns it\n",
    "def average_spam_confidence():\n",
    "    confidence = []\n",
    "    with open(file_path) as f:\n",
    "        for line in f:\n",
    "            line = line.rstrip()\n",
    "            if line.startswith('X-DSPAM-Confidence:'):\n",
    "                confidence.append(float(line.replace('X-DSPAM-Confidence: ', '')))\n",
    "    return sum(confidence)/len(confidence)"
   ]
  },
  {
   "cell_type": "code",
   "execution_count": 21,
   "metadata": {
    "ExecuteTime": {
     "end_time": "2020-09-30T06:11:54.928549Z",
     "start_time": "2020-09-30T06:11:54.756651Z"
    }
   },
   "outputs": [
    {
     "data": {
      "text/plain": [
       "0.8941280467445736"
      ]
     },
     "execution_count": 21,
     "metadata": {},
     "output_type": "execute_result"
    }
   ],
   "source": [
    "average_spam_confidence()"
   ]
  },
  {
   "cell_type": "code",
   "execution_count": 22,
   "metadata": {
    "ExecuteTime": {
     "end_time": "2020-09-30T06:11:55.982674Z",
     "start_time": "2020-09-30T06:11:55.960344Z"
    }
   },
   "outputs": [],
   "source": [
    "# function find_email_sent_days which reads the file mbox-short.txt and \n",
    "# categorizes each mail message by which day of the week the email was sent.\n",
    "\n",
    "def find_email_sent_days():\n",
    "    days_frequency = {}\n",
    "    with open(file_path) as f:\n",
    "        for line in f:\n",
    "            line = line.rstrip()\n",
    "            if line.startswith('From'):\n",
    "                line = line.split(' ')\n",
    "                if len(line) >=3:\n",
    "                    if line[2] in days_frequency:\n",
    "                        days_frequency[line[2]] += 1\n",
    "                    else:\n",
    "                        days_frequency[line[2]] = 1\n",
    "    return days_frequency"
   ]
  },
  {
   "cell_type": "code",
   "execution_count": 23,
   "metadata": {
    "ExecuteTime": {
     "end_time": "2020-09-30T06:11:57.727143Z",
     "start_time": "2020-09-30T06:11:57.601397Z"
    }
   },
   "outputs": [
    {
     "data": {
      "text/plain": [
       "{'Sat': 61,\n",
       " 'Fri': 315,\n",
       " 'Thu': 392,\n",
       " 'Wed': 292,\n",
       " 'Tue': 372,\n",
       " 'Mon': 299,\n",
       " 'Sun': 66}"
      ]
     },
     "execution_count": 23,
     "metadata": {},
     "output_type": "execute_result"
    }
   ],
   "source": [
    "find_email_sent_days()"
   ]
  },
  {
   "cell_type": "markdown",
   "metadata": {},
   "source": [
    "# Explore Header of Emails"
   ]
  },
  {
   "cell_type": "code",
   "execution_count": 24,
   "metadata": {
    "ExecuteTime": {
     "end_time": "2020-09-30T06:12:02.342301Z",
     "start_time": "2020-09-30T06:12:02.331492Z"
    }
   },
   "outputs": [],
   "source": [
    "# This function builds a histogram using a dictionary to count how \n",
    "# many messages have come from each email address and returns the dictionary.\n",
    "\n",
    "def count_message_from_email():\n",
    "    sender_frequency = {}\n",
    "    with open(file_path) as f:\n",
    "        for line in f:\n",
    "            line = line.rstrip()\n",
    "            if line.startswith('From'):\n",
    "                line = line.split(' ')\n",
    "                if len(line) > 2:\n",
    "                    if line[1] in sender_frequency:\n",
    "                        sender_frequency[line[1]] += 1\n",
    "                    else:\n",
    "                        sender_frequency[line[1]] = 1\n",
    "    return sender_frequency"
   ]
  },
  {
   "cell_type": "code",
   "execution_count": 25,
   "metadata": {
    "ExecuteTime": {
     "end_time": "2020-09-30T06:12:03.368820Z",
     "start_time": "2020-09-30T06:12:03.256905Z"
    }
   },
   "outputs": [
    {
     "data": {
      "text/plain": [
       "{'stephen.marquard@uct.ac.za': 29,\n",
       " 'louis@media.berkeley.edu': 24,\n",
       " 'zqian@umich.edu': 195,\n",
       " 'rjlowe@iupui.edu': 90,\n",
       " 'cwen@iupui.edu': 158,\n",
       " 'gsilver@umich.edu': 28,\n",
       " 'wagnermr@iupui.edu': 44,\n",
       " 'antranig@caret.cam.ac.uk': 18,\n",
       " 'gopal.ramasammycook@gmail.com': 25,\n",
       " 'david.horwitz@uct.ac.za': 67,\n",
       " 'ray@media.berkeley.edu': 32,\n",
       " 'mmmay@indiana.edu': 161,\n",
       " 'stuart.freeman@et.gatech.edu': 17,\n",
       " 'tnguyen@iupui.edu': 6,\n",
       " 'chmaurer@iupui.edu': 111,\n",
       " 'aaronz@vt.edu': 110,\n",
       " 'ian@caret.cam.ac.uk': 96,\n",
       " 'csev@umich.edu': 19,\n",
       " 'jimeng@umich.edu': 93,\n",
       " 'josrodri@iupui.edu': 28,\n",
       " 'knoop@umich.edu': 5,\n",
       " 'bkirschn@umich.edu': 27,\n",
       " 'dlhaines@umich.edu': 84,\n",
       " 'hu2@iupui.edu': 7,\n",
       " 'sgithens@caret.cam.ac.uk': 43,\n",
       " 'arwhyte@umich.edu': 27,\n",
       " 'gbhatnag@umich.edu': 3,\n",
       " 'gjthomas@iupui.edu': 44,\n",
       " 'a.fish@lancaster.ac.uk': 14,\n",
       " 'ajpoland@iupui.edu': 48,\n",
       " 'lance@indiana.edu': 8,\n",
       " 'ssmail@indiana.edu': 5,\n",
       " 'jlrenfro@ucdavis.edu': 1,\n",
       " 'nuno@ufp.pt': 28,\n",
       " 'zach.thomas@txstate.edu': 17,\n",
       " 'ktsao@stanford.edu': 12,\n",
       " 'ostermmg@whitman.edu': 17,\n",
       " 'john.ellis@rsmart.com': 8,\n",
       " 'jleasia@umich.edu': 2,\n",
       " 'ggolden@umich.edu': 8,\n",
       " 'thoppaymallika@fhda.edu': 1,\n",
       " 'kimsooil@bu.edu': 14,\n",
       " 'bahollad@indiana.edu': 4,\n",
       " 'jzaremba@unicon.net': 9,\n",
       " 'mbreuker@loi.nl': 9,\n",
       " 'colin.clark@utoronto.ca': 1}"
      ]
     },
     "execution_count": 25,
     "metadata": {},
     "output_type": "execute_result"
    }
   ],
   "source": [
    "count_message_from_email()"
   ]
  },
  {
   "cell_type": "code",
   "execution_count": 26,
   "metadata": {
    "ExecuteTime": {
     "end_time": "2020-09-30T06:12:08.182350Z",
     "start_time": "2020-09-30T06:12:08.170990Z"
    }
   },
   "outputs": [],
   "source": [
    "# This function builds a histogram using a dictionary to count how many \n",
    "# messages have come from each domain(Instead of from email address),\n",
    "# and returns the dictionary.\n",
    "\n",
    "def count_message_from_domain():\n",
    "    domain_frequency = {}\n",
    "    with open(file_path) as f:\n",
    "        for line in f:\n",
    "            line = line.rstrip()\n",
    "            if line.startswith('From'):\n",
    "                line = line.split(' ')\n",
    "                index = line[1].find('@')\n",
    "                if len(line) > 2:\n",
    "                    if line[1][index+1:] in domain_frequency:\n",
    "                        domain_frequency[line[1][index+1:]] += 1\n",
    "                    else:\n",
    "                        domain_frequency[line[1][index+1:]] = 1\n",
    "    return domain_frequency"
   ]
  },
  {
   "cell_type": "code",
   "execution_count": 27,
   "metadata": {
    "ExecuteTime": {
     "end_time": "2020-09-30T06:12:09.430167Z",
     "start_time": "2020-09-30T06:12:09.291347Z"
    }
   },
   "outputs": [
    {
     "data": {
      "text/plain": [
       "{'uct.ac.za': 96,\n",
       " 'media.berkeley.edu': 56,\n",
       " 'umich.edu': 491,\n",
       " 'iupui.edu': 536,\n",
       " 'caret.cam.ac.uk': 157,\n",
       " 'gmail.com': 25,\n",
       " 'indiana.edu': 178,\n",
       " 'et.gatech.edu': 17,\n",
       " 'vt.edu': 110,\n",
       " 'lancaster.ac.uk': 14,\n",
       " 'ucdavis.edu': 1,\n",
       " 'ufp.pt': 28,\n",
       " 'txstate.edu': 17,\n",
       " 'stanford.edu': 12,\n",
       " 'whitman.edu': 17,\n",
       " 'rsmart.com': 8,\n",
       " 'fhda.edu': 1,\n",
       " 'bu.edu': 14,\n",
       " 'unicon.net': 9,\n",
       " 'loi.nl': 9,\n",
       " 'utoronto.ca': 1}"
      ]
     },
     "execution_count": 27,
     "metadata": {},
     "output_type": "execute_result"
    }
   ],
   "source": [
    "count_message_from_domain()"
   ]
  },
  {
   "cell_type": "code",
   "execution_count": null,
   "metadata": {},
   "outputs": [],
   "source": []
  }
 ],
 "metadata": {
  "kernelspec": {
   "display_name": "Python 3",
   "language": "python",
   "name": "python3"
  },
  "language_info": {
   "codemirror_mode": {
    "name": "ipython",
    "version": 3
   },
   "file_extension": ".py",
   "mimetype": "text/x-python",
   "name": "python",
   "nbconvert_exporter": "python",
   "pygments_lexer": "ipython3",
   "version": "3.7.8"
  },
  "toc": {
   "base_numbering": 1,
   "nav_menu": {},
   "number_sections": true,
   "sideBar": true,
   "skip_h1_title": false,
   "title_cell": "Table of Contents",
   "title_sidebar": "Contents",
   "toc_cell": false,
   "toc_position": {},
   "toc_section_display": true,
   "toc_window_display": false
  }
 },
 "nbformat": 4,
 "nbformat_minor": 2
}
